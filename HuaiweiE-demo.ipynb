{
 "cells": [
  {
   "cell_type": "code",
   "execution_count": 84,
   "metadata": {},
   "outputs": [],
   "source": [
    "import os\n",
    "import pandas as pd\n",
    "import numpy as np\n",
    "pd.options.display.max_rows=10\n",
    "import matplotlib.pyplot as plt\n",
    "import netCDF4 as nc"
   ]
  },
  {
   "cell_type": "markdown",
   "metadata": {},
   "source": [
    "#### 读取nc 文件"
   ]
  },
  {
   "cell_type": "code",
   "execution_count": 85,
   "metadata": {},
   "outputs": [],
   "source": [
    "sst_n=nc.Dataset('./dataset/sst.mon.ltm.1981-2010.nc')"
   ]
  },
  {
   "cell_type": "code",
   "execution_count": 86,
   "metadata": {},
   "outputs": [
    {
     "data": {
      "text/plain": [
       "<class 'netCDF4._netCDF4.Dataset'>\n",
       "root group (NETCDF4_CLASSIC data model, file format HDF5):\n",
       "    title: COBE Sea Surface Temperature Analysis\n",
       "    history: Created 2014/03/05 by doMonthLTM\n",
       "    platform: Analyses\n",
       "    original_source: http://near-goos1.jodc.go.jp/cgi-bin/1997/near_goos_catalog?projectname=NEAR-GOOS\n",
       "    Conventions: CF-1.2\n",
       "    institution: NOAA ESRL/PSD\n",
       "    comment: recent values (w/i last year) may change as dataset is updated. It is a monitoring dataset.\n",
       "    not_missing_threshold_percent: minimum 3% values input to have non-missing output value\n",
       "    References: http://www.esrl.noaa.gov/psd/data/gridded/data.cobe.html\n",
       "    dataset_title: COBE Sea Surface Temperature\n",
       "    dimensions(sizes): lon(360), lat(180), time(12), nbnds(2)\n",
       "    variables(dimensions): float32 lat(lat), float32 lon(lon), float64 climatology_bounds(time,nbnds), float64 time(time), float32 sst(time,lat,lon), float32 valid_yr_count(time,lat,lon)\n",
       "    groups: "
      ]
     },
     "execution_count": 86,
     "metadata": {},
     "output_type": "execute_result"
    }
   ],
   "source": [
    "sst_n"
   ]
  },
  {
   "cell_type": "code",
   "execution_count": 87,
   "metadata": {},
   "outputs": [],
   "source": [
    "pd.options.display.max_rows=10\n",
    "time=np.array(sst_n.variables['time'])\n",
    "s_lon=np.array(sst_n.variables['lon'])\n",
    "s_lat=np.array(sst_n.variables['lat'])\n",
    "sst=sst_n.variables['sst']"
   ]
  },
  {
   "cell_type": "code",
   "execution_count": 88,
   "metadata": {},
   "outputs": [],
   "source": [
    "s_lon=pd.DataFrame(s_lon)\n",
    "s_lat=pd.DataFrame(s_lat)"
   ]
  },
  {
   "cell_type": "code",
   "execution_count": 89,
   "metadata": {},
   "outputs": [
    {
     "data": {
      "text/plain": [
       "<class 'netCDF4._netCDF4.Variable'>\n",
       "float32 sst(time, lat, lon)\n",
       "    long_name: Long Term Mean Monthly Means of Global Sea Surface Temperature\n",
       "    valid_range: [-5. 40.]\n",
       "    units: degC\n",
       "    missing_value: -9.96921e+36\n",
       "    var_desc: Sea Surface Temperature\n",
       "    dataset: COBE Sea Surface Temperature\n",
       "    level_desc: Surface\n",
       "    statistic: Long Term Mean\n",
       "    parent_stat: Mean\n",
       "    actual_range: [-1.7999994 33.322334 ]\n",
       "unlimited dimensions: \n",
       "current shape = (12, 180, 360)\n",
       "filling on, default _FillValue of 9.969209968386869e+36 used"
      ]
     },
     "execution_count": 89,
     "metadata": {},
     "output_type": "execute_result"
    }
   ],
   "source": [
    "sst"
   ]
  },
  {
   "cell_type": "code",
   "execution_count": 90,
   "metadata": {},
   "outputs": [
    {
     "data": {
      "text/plain": [
       "<class 'netCDF4._netCDF4.Variable'>\n",
       "float32 valid_yr_count(time, lat, lon)\n",
       "    long_name: count of non-missing values used in mean\n",
       "    missing_value: 32767\n",
       "    add_offset: 0.0\n",
       "    scale_factor: 1.0\n",
       "unlimited dimensions: \n",
       "current shape = (12, 180, 360)\n",
       "filling on, default _FillValue of 9.969209968386869e+36 used"
      ]
     },
     "execution_count": 90,
     "metadata": {},
     "output_type": "execute_result"
    }
   ],
   "source": [
    "valid_yr_count=sst_n.variables['valid_yr_count']\n",
    "valid_yr_count"
   ]
  },
  {
   "cell_type": "code",
   "execution_count": 94,
   "metadata": {},
   "outputs": [
    {
     "data": {
      "text/plain": [
       "<class 'netCDF4._netCDF4.Variable'>\n",
       "float64 climatology_bounds(time, nbnds)\n",
       "    long_name: Climate Time Boundaries\n",
       "    units: days since 1891-1-1 00:00:00\n",
       "unlimited dimensions: \n",
       "current shape = (12, 2)\n",
       "filling on, default _FillValue of 9.969209968386869e+36 used"
      ]
     },
     "execution_count": 94,
     "metadata": {},
     "output_type": "execute_result"
    }
   ],
   "source": [
    "climatology_bounds=sst_n.variables['climatology_bounds']\n",
    "climatology_bounds"
   ]
  },
  {
   "cell_type": "code",
   "execution_count": 100,
   "metadata": {},
   "outputs": [
    {
     "data": {
      "text/plain": [
       "masked_array(data=[32931., 43523.],\n",
       "             mask=False,\n",
       "       fill_value=1e+20)"
      ]
     },
     "execution_count": 100,
     "metadata": {},
     "output_type": "execute_result"
    }
   ],
   "source": [
    "climatology_bounds[:][2]"
   ]
  },
  {
   "cell_type": "code",
   "execution_count": null,
   "metadata": {},
   "outputs": [],
   "source": []
  }
 ],
 "metadata": {
  "kernelspec": {
   "display_name": "Python 3",
   "language": "python",
   "name": "python3"
  },
  "language_info": {
   "codemirror_mode": {
    "name": "ipython",
    "version": 3
   },
   "file_extension": ".py",
   "mimetype": "text/x-python",
   "name": "python",
   "nbconvert_exporter": "python",
   "pygments_lexer": "ipython3",
   "version": "3.7.0"
  }
 },
 "nbformat": 4,
 "nbformat_minor": 2
}
